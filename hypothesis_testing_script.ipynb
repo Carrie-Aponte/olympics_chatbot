{
  "nbformat": 4,
  "nbformat_minor": 0,
  "metadata": {
    "colab": {
      "provenance": []
    },
    "kernelspec": {
      "name": "python3",
      "display_name": "Python 3"
    },
    "language_info": {
      "name": "python"
    }
  },
  "cells": [
    {
      "cell_type": "markdown",
      "source": [
        "#This script is to test my hypotheses\n",
        "\n",
        "I am back-generating synthetic ROUGE scores for both my FLAN-T5 (tuned on Olympics dataset), and my baseline gpt2-large (not fine-tuned on any data)"
      ],
      "metadata": {
        "id": "XR8_dIMT2knm"
      }
    },
    {
      "cell_type": "code",
      "execution_count": 7,
      "metadata": {
        "id": "TElWdYCN2aLk"
      },
      "outputs": [],
      "source": [
        "import numpy as np\n",
        "from scipy.stats import ttest_ind\n",
        "import pandas as pd"
      ]
    },
    {
      "cell_type": "code",
      "source": [
        "baseline_means = {'ROUGE1': 0.0505, 'ROUGE2': 0.0342, 'ROUGEL': 0.0505}\n",
        "flan_t5_means = {'ROUGE1': 0.9480, 'ROUGE2': 0.6381, 'ROUGEL': 0.9479}"
      ],
      "metadata": {
        "id": "g2_kVjUm3SXD"
      },
      "execution_count": 2,
      "outputs": []
    },
    {
      "cell_type": "code",
      "source": [
        "### setting up the synthetic data\n",
        "\n",
        "variance = 0.02\n",
        "\n",
        "np.random.seed(42)\n",
        "num_samples = 100\n",
        "\n",
        "\n",
        "baseline_scores = {metric: np.random.normal(mean, np.sqrt(variance), num_samples) for metric, mean in baseline_means.items()}\n",
        "flan_t5_scores = {metric: np.random.normal(mean, np.sqrt(variance), num_samples) for metric, mean in flan_t5_means.items()}"
      ],
      "metadata": {
        "id": "I4HOqBK9275A"
      },
      "execution_count": 6,
      "outputs": []
    },
    {
      "cell_type": "markdown",
      "source": [
        "The actual hypothesis testing! Getting mean, variance, and mean squared error for the two models. Obtaining t-statistic and p-value, saving results with labels."
      ],
      "metadata": {
        "id": "naeHi7rn5LNK"
      }
    },
    {
      "cell_type": "code",
      "source": [
        "results = {}\n",
        "\n",
        "for metric in baseline_means.keys():\n",
        "  baseline = baseline_scores[metric]\n",
        "  flan_t5 = flan_t5_scores[metric]\n",
        "\n",
        "  mean_baseline = np.mean(baseline)\n",
        "  mean_flan_t5 = np.mean(flan_t5)\n",
        "  var_baseline = np.var(baseline)\n",
        "  var_flan_t5 = np.var(flan_t5)\n",
        "  mse = np.mean((flan_t5 - baseline) ** 2)\n",
        "\n",
        "  t_stat, p_val = ttest_ind(flan_t5, baseline, alternative='greater')\n",
        "\n",
        "  results[metric] = {\n",
        "      'Mean Baseline': mean_baseline,\n",
        "      'Mean Flan-T5': mean_flan_t5,\n",
        "      'Variance Baseline': var_baseline,\n",
        "      'Variance Flan-T5': var_flan_t5,\n",
        "      'MSE': mse,\n",
        "      't-statistic': t_stat,\n",
        "      'p-value': p_val\n",
        "  }\n"
      ],
      "metadata": {
        "id": "aMlxDpY33mjD"
      },
      "execution_count": 8,
      "outputs": []
    },
    {
      "cell_type": "code",
      "source": [
        "df_results = pd.DataFrame(results).T\n",
        "print(df_results)"
      ],
      "metadata": {
        "colab": {
          "base_uri": "https://localhost:8080/"
        },
        "id": "N1LeOp-W4L73",
        "outputId": "10047f72-c408-4c81-f710-445708714fe1"
      },
      "execution_count": 9,
      "outputs": [
        {
          "output_type": "stream",
          "name": "stdout",
          "text": [
            "        Mean Baseline  Mean Flan-T5  Variance Baseline  Variance Flan-T5  \\\n",
            "ROUGE1       0.035814      0.963109           0.016330          0.015476   \n",
            "ROUGE2       0.037354      0.630180           0.018008          0.022404   \n",
            "ROUGEL       0.059678      0.931593           0.023278          0.016888   \n",
            "\n",
            "             MSE  t-statistic        p-value  \n",
            "ROUGE1  0.897096    51.733951  2.760721e-117  \n",
            "ROUGE2  0.384190    29.341993   2.532560e-74  \n",
            "ROUGEL  0.806432    43.287470  3.349077e-103  \n"
          ]
        }
      ]
    }
  ]
}